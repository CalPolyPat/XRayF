{
 "metadata": {
  "name": "",
  "signature": "sha256:1d39f6ec34500849576fca670dcd550e6278cd8c1dde224e2b11f0e4462fa98e"
 },
 "nbformat": 3,
 "nbformat_minor": 0,
 "worksheets": [
  {
   "cells": [
    {
     "cell_type": "heading",
     "level": 1,
     "metadata": {},
     "source": [
      "Xray transition data"
     ]
    },
    {
     "cell_type": "markdown",
     "metadata": {},
     "source": [
      "[NIST Xray database](http://physics.nist.gov/PhysRefData/XrayTrans/Html/search.html)"
     ]
    },
    {
     "cell_type": "markdown",
     "metadata": {},
     "source": [
      "All elements with transitions between 1 and 30 keV:"
     ]
    },
    {
     "cell_type": "markdown",
     "metadata": {},
     "source": [
      "KL3 = K-alpha1  \n",
      "KL2 = K-alpha2  \n",
      "KM3 = K-beta1  \n",
      "\n",
      "L3M5 = L-alpha1  \n",
      "L3M4 = L-alpha2  \n",
      "L2M4 = L-beta1  \n",
      "\n",
      "http://physics.nist.gov/cgi-bin/XrayTrans/search.pl?download=column&sorttype=transition&element=All&trans=All&lower=1000&upper=30000&units=eV'\n",
      "\n"
     ]
    },
    {
     "cell_type": "code",
     "collapsed": false,
     "input": [
      "%pylab inline\n",
      "import numpy as np\n",
      "import matplotlib.pyplot as plt\n",
      "import requests\n",
      "from StringIO import StringIO"
     ],
     "language": "python",
     "metadata": {},
     "outputs": [
      {
       "output_type": "stream",
       "stream": "stdout",
       "text": [
        "Populating the interactive namespace from numpy and matplotlib\n"
       ]
      }
     ],
     "prompt_number": 2
    },
    {
     "cell_type": "code",
     "collapsed": false,
     "input": [
      "onestopshop = 'http://physics.nist.gov/cgi-bin/XrayTrans/search.pl?download=column&sorttype=transition&element=All&trans=All&lower=1000&upper=30000&units=eV'\n",
      "response = requests.get(onestopshop)"
     ],
     "language": "python",
     "metadata": {},
     "outputs": [],
     "prompt_number": 3
    },
    {
     "cell_type": "code",
     "collapsed": false,
     "input": [
      "Ka1 = [[],[]]\n",
      "Ka2 = [[],[]]\n",
      "Kb1 = [[],[]]\n",
      "La1 = [[],[]]\n",
      "La2 = [[],[]]\n",
      "Lb1 = [[],[]]\n",
      "#Extract experimental data for line\n",
      "content = StringIO(response.content).read()\n",
      "linecount = 0\n",
      "for line in content.splitlines():\n",
      "    if linecount < 23:\n",
      "        if \"Direct (eV)       =\" in line: \n",
      "            startXray = int(line[22:24])-1\n",
      "            endXray = int(line[27:29])-1\n",
      "        if \"Trans.              =\" in line:\n",
      "            startTrans = int(line[22:24])-1\n",
      "            endTrans = int(line[27:29])-1\n",
      "    else:\n",
      "        if \"KL2\" in line[startTrans:endTrans]:\n",
      "            #print line[0:4],line[startTrans:endTrans],line[startXray:endXray]\n",
      "            #Not all elements have a given xray line\n",
      "            if line[startXray:endXray] != (endXray-startXray)*' ':\n",
      "                Ka2[0].append(line[0:2])\n",
      "                Ka2[1].append(float(line[startXray:endXray])*1.e-3)\n",
      "        if \"KL3\" in line[startTrans:endTrans]:\n",
      "            #print line[0:4],line[startTrans:endTrans],line[startXray:endXray]\n",
      "            #Not all elements have a given xray line\n",
      "            if line[startXray:endXray] != (endXray-startXray)*' ':\n",
      "                Ka1[0].append(line[0:2])\n",
      "                Ka1[1].append(float(line[startXray:endXray])*1.e-3)\n",
      "        if \"KM3\" in line[startTrans:endTrans]:\n",
      "            #print line[0:4],line[startTrans:endTrans],line[startXray:endXray]\n",
      "            #Not all elements have a given xray line\n",
      "            if line[startXray:endXray] != (endXray-startXray)*' ':\n",
      "                Kb1[0].append(line[0:2])\n",
      "                Kb1[1].append(float(line[startXray:endXray])*1.e-3)\n",
      "        if \"L3M5\" in line[startTrans:endTrans]:\n",
      "            #print line[0:4],line[startTrans:endTrans]\n",
      "            #Not all elements have a given xray line\n",
      "            if line[startXray:endXray] != (endXray-startXray)*' ':\n",
      "                La1[0].append(line[0:2])\n",
      "                La1[1].append(float(line[startXray:endXray])*1.e-3)\n",
      "        if \"L3M4\" in line[startTrans:endTrans]:\n",
      "            #print line[0:4],line[startTrans:endTrans]\n",
      "            #Not all elements have a given xray line\n",
      "            if line[startXray:endXray] != (endXray-startXray)*' ':\n",
      "                La2[0].append(line[0:2])\n",
      "                La2[1].append(float(line[startXray:endXray])*1.e-3)\n",
      "        if \"L2M4\" in line[startTrans:endTrans]:\n",
      "            #print line[0:4],line[startTrans:endTrans]\n",
      "            #Not all elements have a given xray line\n",
      "            if line[startXray:endXray] != (endXray-startXray)*' ':\n",
      "                Lb1[0].append(line[0:2])\n",
      "                Lb1[1].append(float(line[startXray:endXray])*1.e-3)\n",
      "    linecount += 1\n",
      "    \n",
      "print len(Ka2[0])\n",
      "print len(Ka1[0])\n",
      "print len(Kb1[0])\n",
      "\n",
      "del Ka1[0][-3:]\n",
      "del Ka1[1][-3:]\n",
      "del Ka2[0][-3:]\n",
      "del Ka2[1][13]\n",
      "\n",
      "print Ka1[0]\n",
      "print Kb1[0]\n",
      "\n",
      "#Write file\n",
      "out = open('Kseries.dat', 'w')\n",
      "#header = \"#K-series lines from NIST in keV\\n\"\n",
      "#out.writelines(header)\n",
      "for i in range(len(Ka2[0])):\n",
      "    lines = \"%s   %7.4f  %7.4f\\n\"%(Ka1[0][i],(Ka1[1][i]+Ka2[1][i])/2.,Kb1[1][i])\n",
      "    out.writelines(lines)\n",
      "out.close()\n",
      "\n",
      "#L-lines\n",
      "\n",
      "print \"##################\"\n",
      "#Get rid of Tc, because it doesn't have a partner or add Tc to La2?\n",
      "del La1[0][13]\n",
      "del La1[1][13]\n",
      "del Lb1[0][13]\n",
      "del Lb1[1][13]\n",
      "\n",
      "#Write file\n",
      "out = open('Lseries.dat', 'w')\n",
      "#header = \"#L-series lines from NIST in keV\\n\"\n",
      "#out.writelines(header)\n",
      "for i in range(len(La1[0])):\n",
      "    lines = \"%s   %7.4f  %7.4f\\n\"%(La1[0][i],(La1[1][i]+La2[1][i])/2.,Lb1[1][i])\n",
      "    out.writelines(lines)\n",
      "out.close()\n",
      "\n",
      "print len(Lb1[0])\n",
      "print len(La2[0])\n",
      "print len(La1[0])"
     ],
     "language": "python",
     "metadata": {},
     "outputs": [
      {
       "output_type": "stream",
       "stream": "stdout",
       "text": [
        "44\n",
        "44\n",
        "41\n",
        "['Na', 'Mg', 'Al', 'Si', 'P ', 'S ', 'Cl', 'Ar', 'K ', 'Ca', 'Sc', 'Ti', 'V ', 'Cr', 'Mn', 'Fe', 'Co', 'Ni', 'Cu', 'Zn', 'Ga', 'Ge', 'As', 'Se', 'Br', 'Kr', 'Rb', 'Sr', 'Y ', 'Zr', 'Nb', 'Mo', 'Tc', 'Ru', 'Rh', 'Pd', 'Ag', 'Cd', 'In', 'Sn', 'Sb']\n",
        "['Na', 'Mg', 'Al', 'Si', 'P ', 'S ', 'Cl', 'Ar', 'K ', 'Ca', 'Sc', 'Ti', 'V ', 'Cr', 'Mn', 'Fe', 'Co', 'Ni', 'Cu', 'Zn', 'Ga', 'Ge', 'As', 'Se', 'Br', 'Kr', 'Rb', 'Sr', 'Y ', 'Zr', 'Nb', 'Mo', 'Tc', 'Ru', 'Rh', 'Pd', 'Ag', 'Cd', 'In', 'Sn', 'Sb']\n",
        "##################\n",
        "67\n",
        "67\n",
        "67\n"
       ]
      }
     ],
     "prompt_number": 60
    },
    {
     "cell_type": "code",
     "collapsed": false,
     "input": [
      "!cat Lseries.dat"
     ],
     "language": "python",
     "metadata": {},
     "outputs": [
      {
       "output_type": "stream",
       "stream": "stdout",
       "text": [
        "#L-series lines from NIST in keV\r\n",
        "Zn    1.0118   1.0347\r\n",
        "Ga    1.0980   1.1248\r\n",
        "Ge    1.1880   1.2185\r\n",
        "As    1.2820   1.3170\r\n",
        "Se    1.3791   1.4192\r\n",
        "Br    1.4805   1.5259\r\n",
        "Kr    1.5854   1.6369\r\n",
        "Rb    1.6934   1.7522\r\n",
        "Sr    1.8057   1.8717\r\n",
        "Y     1.9215   1.9958\r\n",
        "Zr    2.0413   2.1244\r\n",
        "Nb    2.1645   2.2574\r\n",
        "Mo    2.2915   2.3948\r\n",
        "Ru    2.5565   2.6833\r\n",
        "Rh    2.6944   2.8344\r\n",
        "Pd    2.8360   2.9903\r\n",
        "Ag    2.9813   3.1510\r\n",
        "Cd    3.1304   3.3166\r\n",
        "In    3.2832   3.4872\r\n",
        "Sn    3.4407   3.6628\r\n",
        "Sb    3.6001   3.8436\r\n",
        "Te    3.7641   4.0296\r\n",
        "I     3.9319   4.2208\r\n",
        "Xe    4.1037   4.4177\r\n",
        "Cs    4.2794   4.6198\r\n",
        "Ba    4.4586   4.8276\r\n",
        "La    4.6426   5.0422\r\n",
        "Ce    4.8316   5.2629\r\n",
        "Pr    5.0237   5.4889\r\n",
        "Nd    5.2190   5.7214\r\n",
        "Pm    5.4203   5.9615\r\n",
        "Sm    5.6225   6.2041\r\n",
        "Eu    5.8315   6.4557\r\n",
        "Gd    6.0412   6.7134\r\n",
        "Tb    6.2555   6.9778\r\n",
        "Dy    6.4765   7.2478\r\n",
        "Ho    6.6991   7.5257\r\n",
        "Er    6.9262   7.8102\r\n",
        "Tm    7.1569   8.1023\r\n",
        "Yb    7.3916   8.4019\r\n",
        "Lu    7.6302   8.7091\r\n",
        "Hf    7.8719   9.0228\r\n",
        "Ta    8.1170   9.3432\r\n",
        "W     8.3668   9.6726\r\n",
        "Re    8.6194  10.0100\r\n",
        "Os    8.8765  10.3554\r\n",
        "Ir    9.1374  10.7084\r\n",
        "Pt    9.4022  11.0708\r\n",
        "Au    9.6707  11.4425\r\n",
        "Hg    9.9433  11.8227\r\n",
        "Tl   10.2208  12.2134\r\n",
        "Pb   10.5006  12.6138\r\n",
        "Bi   10.7850  13.0236\r\n",
        "Po   11.0734  13.4471\r\n",
        "At   11.3659  13.8762\r\n",
        "Rn   11.6626  14.3158\r\n",
        "Fr   11.9632  14.7704\r\n",
        "Ra   12.2681  15.2359\r\n",
        "Ac   12.5766  15.7133\r\n",
        "Th   12.8887  16.2016\r\n",
        "Pa   13.2066  16.7020\r\n",
        "U    13.5269  17.2202\r\n",
        "Np   13.8521  17.7504\r\n",
        "Pu   14.1816  18.2940\r\n",
        "Am   14.5147  18.8522\r\n",
        "Cf   15.5440  20.6560\r\n",
        "Fm   16.2530  21.8980\r\n"
       ]
      }
     ],
     "prompt_number": 58
    },
    {
     "cell_type": "code",
     "collapsed": false,
     "input": [
      "!cat Kseries.dat"
     ],
     "language": "python",
     "metadata": {},
     "outputs": [
      {
       "output_type": "stream",
       "stream": "stdout",
       "text": [
        "#K-series lines from NIST in keV\r\n",
        "Na    1.0410   1.0711\r\n",
        "Mg    1.2536   1.3022\r\n",
        "Al    1.4865   1.5576\r\n",
        "Si    1.7397   1.8360\r\n",
        "P     2.0132   2.1391\r\n",
        "S     2.3073   2.4641\r\n",
        "Cl    2.6216   2.8156\r\n",
        "Ar    2.9566   3.1905\r\n",
        "K     3.3126   3.5896\r\n",
        "Ca    3.6899   4.0128\r\n",
        "Sc    4.0883   4.4604\r\n",
        "Ti    4.5079   4.9318\r\n",
        "V     4.9484   5.4273\r\n",
        "Cr    5.6512   5.9468\r\n",
        "Mn    6.1449   6.4906\r\n",
        "Fe    6.6598   7.0582\r\n",
        "Co    7.1957   7.6494\r\n",
        "Ni    7.7530   8.2648\r\n",
        "Cu    8.3318   8.9054\r\n",
        "Zn    8.9319   9.5720\r\n",
        "Ga    9.5535  10.2642\r\n",
        "Ge   10.1970  10.9822\r\n",
        "As   10.8624  11.7257\r\n",
        "Se   11.5501  12.4960\r\n",
        "Br   12.2599  13.2916\r\n",
        "Kr   12.9919  14.1128\r\n",
        "Rb   13.7468  14.9614\r\n",
        "Sr   14.5241  15.8359\r\n",
        "Y    15.3246  16.7381\r\n",
        "Zr   16.1481  17.6666\r\n",
        "Nb   16.9947  18.6227\r\n",
        "Mo   17.8651  19.6083\r\n",
        "Tc   18.7588  20.6190\r\n",
        "Ru   19.6764  21.6567\r\n",
        "Rh   20.6181  22.7236\r\n",
        "Pd   21.5837  23.8187\r\n",
        "Ag   22.5735  24.9424\r\n",
        "Cd   23.5880  26.0954\r\n",
        "In   24.6269  27.2755\r\n",
        "Sn   25.6911  28.4863\r\n",
        "Sb   26.7804  29.7255\r\n"
       ]
      }
     ],
     "prompt_number": 59
    },
    {
     "cell_type": "code",
     "collapsed": false,
     "input": [],
     "language": "python",
     "metadata": {},
     "outputs": []
    }
   ],
   "metadata": {}
  }
 ]
}