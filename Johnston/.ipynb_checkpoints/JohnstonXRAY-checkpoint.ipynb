{
 "metadata": {
  "name": "",
  "signature": "sha256:bf2f8c9f2511abe25f80aec0b03f598d76ee509936a82f577ed2d45dbf2562f5"
 },
 "nbformat": 3,
 "nbformat_minor": 0,
 "worksheets": [
  {
   "cells": [
    {
     "cell_type": "heading",
     "level": 1,
     "metadata": {},
     "source": [
      "X-Ray Spectroscopy for Scott Johnston"
     ]
    },
    {
     "cell_type": "markdown",
     "metadata": {},
     "source": [
      "3pm Monday, 12-May-2014"
     ]
    },
    {
     "cell_type": "code",
     "collapsed": false,
     "input": [
      "%pylab inline\n",
      "import numpy as np\n",
      "import matplotlib.pyplot as plt\n",
      "import NISTdata as nd\n",
      "import periodictable as pt"
     ],
     "language": "python",
     "metadata": {},
     "outputs": [
      {
       "output_type": "stream",
       "stream": "stdout",
       "text": [
        "Populating the interactive namespace from numpy and matplotlib\n"
       ]
      }
     ],
     "prompt_number": 25
    },
    {
     "cell_type": "heading",
     "level": 2,
     "metadata": {},
     "source": [
      "Energy Calibration"
     ]
    },
    {
     "cell_type": "code",
     "collapsed": false,
     "input": [
      "elements = ['Fe K-a', 'Fe K-b', 'Cu K-a', 'Cu K-b', 'Ni K-a', 'Ni K-b', 'Zn K-a', 'Zn K-b', \\\n",
      "            'Zr K-a', 'Zr K-b', 'Mo K-a', 'Mo K-b', 'Rh K-a', 'Rh K-b', 'Sn K-a', 'Sn K-b', \\\n",
      "            'Pb L-a', 'Pb L-b' ]\n",
      "channels = np.array([66.33, 73.07, 83.32, 92.22, 77.43, 85.61, 89.36, 99.05, \\\n",
      "                  162.94, 182.80, 180.55, 202.90, 208.59, 235.00, 260.56, 294.27, \\\n",
      "                  109.20, 130.69])\n",
      "FWHM = np.array([2.296, 2.284, 2.319, 2.311, 2.392, 2.366, 2.473, 2.449, \\\n",
      "              2.903, 2.618, 3.093, 2.764, 3.307, 2.973, 4.004, 2.979, \\\n",
      "              2.635, 2.626])\n",
      "energy = np.array([6.40, 7.06, 8.05, 8.90, 7.48, 8.26, 8.64, 9.57, \\\n",
      "                15.77, 17.67, 17.48, 19.61, 20.21, 22.72, 25.27, 28.48, \\\n",
      "                10.55, 12.61])\n",
      "\n",
      "#Import the curve fitter from the scipy optimize package\n",
      "from scipy.optimize import curve_fit\n",
      "\n",
      "#Define the fit function\n",
      "func = lambda x,m,b: m*x + b\n",
      "\n",
      "# Make initial guess at parameters\n",
      "p0 = [0.1, -0.05]\n",
      "\n",
      "#Call the curve fitter with FWHM as standard weights\n",
      "#and have it return the optimized parameters (popt) and covariance matrix (pcov)\n",
      "popt,pcov = curve_fit(func,channels,energy,p0,sigma=1/FWHM**2)\n",
      "\n",
      "fitresult = func(channels,popt[0],popt[1])\n",
      "print popt[0],popt[1]"
     ],
     "language": "python",
     "metadata": {},
     "outputs": [
      {
       "output_type": "stream",
       "stream": "stdout",
       "text": [
        "0.097050477553 -0.045488605542\n"
       ]
      }
     ],
     "prompt_number": 26
    },
    {
     "cell_type": "code",
     "collapsed": false,
     "input": [
      "plt.plot(channels,energy,\"ro\",label=\"Calibration data\")\n",
      "curve=\"Energy = %.3f*Channel + %.3f\"%(popt[0],popt[1])\n",
      "plt.plot(channels,fitresult,'b-',label=curve)\n",
      "plt.xlabel(\"Channel Number\",fontsize=20)\n",
      "plt.ylabel(\"Energy (keV)\",fontsize=20)\n",
      "plt.legend(loc=\"best\")\n",
      "plt.plot()"
     ],
     "language": "python",
     "metadata": {},
     "outputs": [
      {
       "metadata": {},
       "output_type": "pyout",
       "prompt_number": 27,
       "text": [
        "[]"
       ]
      },
      {
       "metadata": {},
       "output_type": "display_data",
       "png": "[encoded data removed]",
       "text": [
        "<matplotlib.figure.Figure at 0x5ef4c90>"
       ]
      }
     ],
     "prompt_number": 27
    },
    {
     "cell_type": "heading",
     "level": 2,
     "metadata": {},
     "source": [
      "Apply calibration"
     ]
    },
    {
     "cell_type": "code",
     "collapsed": false,
     "input": [
      "#convert FWHM from channels to energy with calibration equation\n",
      "calFWHM = FWHM*popt[0] + popt[1]\n",
      "#convert channels to energy with calibration equation\n",
      "calEn = channels*popt[0] + popt[1]"
     ],
     "language": "python",
     "metadata": {},
     "outputs": [],
     "prompt_number": 28
    },
    {
     "cell_type": "heading",
     "level": 2,
     "metadata": {},
     "source": [
      "Energy resolution"
     ]
    },
    {
     "cell_type": "code",
     "collapsed": false,
     "input": [
      "func2 = lambda x,a,b,c: a + b*x + c*x**-2\n",
      "popt2,pcov2 = curve_fit(func2,calEn,calFWHM/calEn,[0.02,-1.e-3,0.5])\n",
      "print popt2\n",
      "x = np.linspace(0.,40.)\n",
      "resolution = func2(x,popt2[0],popt2[1],popt2[2])\n",
      "\n",
      "plt.plot(calEn,calFWHM/calEn,\"ro\",label=\"Data\")\n",
      "plt.plot(x,resolution,'b-',label=\"a + b*x + c*x**-2\")\n",
      "plt.xlabel(\"Energy (keV)\",fontsize=20)\n",
      "plt.ylabel(\"FWHM/Energy (calibrated)\",fontsize=20)\n",
      "plt.legend(loc=\"best\")\n",
      "plt.ylim(0.,0.05)\n",
      "plt.plot()\n",
      "\n"
     ],
     "language": "python",
     "metadata": {},
     "outputs": [
      {
       "output_type": "stream",
       "stream": "stdout",
       "text": [
        "[  1.71724218e-02  -2.86965856e-04   5.12977250e-01]\n"
       ]
      },
      {
       "metadata": {},
       "output_type": "pyout",
       "prompt_number": 29,
       "text": [
        "[]"
       ]
      },
      {
       "metadata": {},
       "output_type": "display_data",
       "png": "[encoded data removed]",
       "text": [
        "<matplotlib.figure.Figure at 0x74bfad0>"
       ]
      }
     ],
     "prompt_number": 29
    },
    {
     "cell_type": "heading",
     "level": 2,
     "metadata": {},
     "source": [
      "Data"
     ]
    },
    {
     "cell_type": "markdown",
     "metadata": {},
     "source": [
      "Load in the data for each of the specimen target areas. Normalize by the detector livetime and convert channel to energy with the calibration equation. Also define dictionaries for the X-Ray energies based on NIST data."
     ]
    },
    {
     "cell_type": "code",
     "collapsed": false,
     "input": [
      "def loadLines():\n",
      "    elementsK = {}\n",
      "    for i in xrange(11,56):\n",
      "        try:\n",
      "            elementsK[str(i)] = (nd.Ka[\"'\" + str(pt.elements[i]) + \"'\"],nd.Kb1[\"'\" + str(pt.elements[i]) + \"'\"])\n",
      "            elementsK[str(pt.elements[i])] = (nd.Ka[\"'\" + str(pt.elements[i]) + \"'\"],nd.Kb1[\"'\" + str(pt.elements[i]) + \"'\"])\n",
      "            elementsK[str(pt.elements[i].name)] = (nd.Ka[\"'\" + str(pt.elements[i]) + \"'\"],nd.Kb1[\"'\" + str(pt.elements[i]) + \"'\"])\n",
      "        except KeyError:\n",
      "            print str(pt.elements[i].name) + \" has no K-line data.\"\n",
      "    elementsL = {}\n",
      "    for i in xrange(30,100):\n",
      "        try:\n",
      "            elementsL[str(i)] = (nd.La[\"'\" + str(pt.elements[i]) + \"'\"],nd.Lb1[\"'\" + str(pt.elements[i]) + \"'\"])\n",
      "            elementsL[str(pt.elements[i])] = (nd.La[\"'\" + str(pt.elements[i]) + \"'\"],nd.Lb1[\"'\" + str(pt.elements[i]) + \"'\"])\n",
      "            elementsL[str(pt.elements[i].name)] = (nd.La[\"'\" + str(pt.elements[i]) + \"'\"],nd.Lb1[\"'\" + str(pt.elements[i]) + \"'\"])\n",
      "        except KeyError:\n",
      "            print str(pt.elements[i].name) + \" has no L-line data.\"\n",
      "    return elementsK, elementsL\n",
      "KLines, LLines=loadLines()"
     ],
     "language": "python",
     "metadata": {},
     "outputs": [
      {
       "output_type": "stream",
       "stream": "stdout",
       "text": [
        "phosphorus has no K-line data.\n",
        "sulfur has no K-line data.\n",
        "potassium has no K-line data.\n",
        "vanadium has no K-line data.\n",
        "yttrium has no K-line data.\n",
        "tellurium has no K-line data.\n",
        "iodine has no K-line data.\n",
        "xenon has no K-line data.\n",
        "cesium has no K-line data.\n",
        "yttrium has no L-line data.\n",
        "technetium has no L-line data.\n",
        "iodine has no L-line data.\n",
        "tungsten has no L-line data.\n",
        "uranium has no L-line data.\n",
        "curium has no L-line data.\n",
        "berkelium has no L-line data.\n",
        "einsteinium has no L-line data.\n"
       ]
      }
     ],
     "prompt_number": 30
    },
    {
     "cell_type": "code",
     "collapsed": false,
     "input": [
      "area1 = np.loadtxt(\"../data/Johnston-Xray-Area1.txt\")\n",
      "norm1 = 1717.796 #livetime\n",
      "area2 = np.loadtxt(\"../data/Johnston-Xray-Area2.txt\")\n",
      "norm2 = 1737.260\n",
      "\n",
      "chan = np.arange(512)\n",
      "calEn = chan*popt[0] + popt[1]\n",
      "#print calEn\n",
      "ct1 = area1/norm1\n",
      "ct2 = area2/norm2"
     ],
     "language": "python",
     "metadata": {},
     "outputs": [],
     "prompt_number": 31
    },
    {
     "cell_type": "code",
     "collapsed": false,
     "input": [
      "fig = figure(1,(12,8),dpi=72)\n",
      "plt.plot(calEn[:380],ct1[:380],'r-',linewidth=2,label=\"Area 1\")\n",
      "plt.plot(calEn[:380],ct2[:380],'b-',linewidth=2,label=\"Area 2\")\n",
      "plt.xlabel(\"Energy (keV)\",fontsize=20)\n",
      "plt.ylabel(\"Counts/s\",fontsize=20)\n",
      "plt.legend(fontsize=20)\n",
      "plt.show()"
     ],
     "language": "python",
     "metadata": {},
     "outputs": [
      {
       "metadata": {},
       "output_type": "display_data",
       "png": "[encoded data removed]",
       "text": [
        "<matplotlib.figure.Figure at 0x74d1490>"
       ]
      }
     ],
     "prompt_number": 32
    },
    {
     "cell_type": "code",
     "collapsed": false,
     "input": [
      "def iron(x,a0,a1,sig): \n",
      "    \"\"\"Return the integrated area and common\n",
      "    width of Gaussians for the K-alpha and \n",
      "    K-beta lines of iron\"\"\"\n",
      "    \n",
      "    #use the resolution curve to set the width?\n",
      "    ampKa = a0/(sig*np.sqrt(2*np.pi))\n",
      "    ampKb = a1/(sig*np.sqrt(2*np.pi))\n",
      "    menKa = KLines['Fe'][0]\n",
      "    menKb = KLines['Fe'][1]\n",
      "    #print menKa,menKb\n",
      "    return ampKa*np.exp(-(x-menKa)**2/(2*sig**2))+ampKb*np.exp(-(x-menKb)**2/(2*sig**2))\n",
      "\n",
      "popt, pcov = curve_fit(iron, calEn[58:80], ct1[58:80], p0 = [10.,15.,0.1])\n",
      "#print popt\n",
      "\n",
      "fig = figure(2,(12,8),dpi=72)\n",
      "plt.plot(calEn[0:380],ct1[0:380],'g-')\n",
      "plt.xlim(0.,40.)\n",
      "plt.ylim(0.,)\n",
      "plt.plot(calEn[0:380],iron(calEn[0:380], *popt))\n",
      "#plt.plot(calEn[0:380],iron(calEn[0:380],10.,15.,0.1),\"r-\")\n",
      "plt.show()"
     ],
     "language": "python",
     "metadata": {},
     "outputs": [
      {
       "metadata": {},
       "output_type": "display_data",
       "png": "[encoded data removed]",
       "text": [
        "<matplotlib.figure.Figure at 0x5f9f830>"
       ]
      }
     ],
     "prompt_number": 33
    },
    {
     "cell_type": "code",
     "collapsed": false,
     "input": [
      "from IPython.html.widgets import interact, interactive"
     ],
     "language": "python",
     "metadata": {},
     "outputs": [],
     "prompt_number": 9
    },
    {
     "cell_type": "code",
     "collapsed": false,
     "input": [
      "#create an interact that lets you slide through the dictionary, \n",
      "#plotting a vertical line at the line pairs for each element, printing the element name as a label\n",
      "\n",
      "def identify(elnum=7):\n",
      "\n",
      "    #get data\n",
      "    area1 = np.loadtxt(\"../data/Johnston-Xray-Area1.txt\")\n",
      "    norm1 = 1717.796 #livetime\n",
      "    ct1 = area1/norm1\n",
      "    area2 = np.loadtxt(\"../data/Johnston-Xray-Area2.txt\")\n",
      "    norm2 = 1737.260\n",
      "    ct2 = area2/norm2\n",
      "    #calibrate\n",
      "    chan = np.arange(512)\n",
      "    calEn = chan*popt[0] + popt[1]\n",
      "    \n",
      "    pena = np.loadtxt(\"../Pena/Calibrated-Pena-data.txt\")\n",
      "    \n",
      "    #print xrays[elnum][0],xrays[elnum][1]\n",
      "    fig = figure(2,(12,8),dpi=72)\n",
      "    plt.semilogy(calEn[0:380],ct1[0:380],'g-')\n",
      "    plt.semilogy(calEn[0:380],ct2[0:380],'b-')\n",
      "    #plt.semilogy(pena[0:400,0],pena[0:400,1],'r-')\n",
      "    plt.xlim(0.,35.)\n",
      "    plt.ylim(0.,pena[0:400,1].max()*1.05)\n",
      "    plt.semilogy([KLines[elnum][0],KLines[elnum][1]],[1.e-3,ct1[0:380].max()*1.05],'r-',label=elements[elnum][0])\n",
      "    plt.semilogy([LLines[elnum][1],LLines[elnum][1]],[1.e-3,ct1[0:380].max()*1.05],'r--',label=elements[elnum][1])\n",
      "    plt.legend(fontsize=20)\n",
      "    plt.xlabel(\"Energy (keV)\",fontsize=20)\n",
      "    plt.ylabel(\"Counts/s\",fontsize=20)\n",
      "    plt.show()\n",
      "    \n",
      "v = interact(identify,elnum=(0,len(xrays)-1))"
     ],
     "language": "python",
     "metadata": {},
     "outputs": [
      {
       "ename": "NameError",
       "evalue": "name 'xrays' is not defined",
       "output_type": "pyerr",
       "traceback": [
        "\u001b[1;31m---------------------------------------------------------------------------\u001b[0m\n\u001b[1;31mNameError\u001b[0m                                 Traceback (most recent call last)",
        "\u001b[1;32m<ipython-input-10-ff287b3222ce>\u001b[0m in \u001b[0;36m<module>\u001b[1;34m()\u001b[0m\n\u001b[0;32m     31\u001b[0m     \u001b[0mplt\u001b[0m\u001b[1;33m.\u001b[0m\u001b[0mshow\u001b[0m\u001b[1;33m(\u001b[0m\u001b[1;33m)\u001b[0m\u001b[1;33m\u001b[0m\u001b[0m\n\u001b[0;32m     32\u001b[0m \u001b[1;33m\u001b[0m\u001b[0m\n\u001b[1;32m---> 33\u001b[1;33m \u001b[0mv\u001b[0m \u001b[1;33m=\u001b[0m \u001b[0minteract\u001b[0m\u001b[1;33m(\u001b[0m\u001b[0midentify\u001b[0m\u001b[1;33m,\u001b[0m\u001b[0melnum\u001b[0m\u001b[1;33m=\u001b[0m\u001b[1;33m(\u001b[0m\u001b[1;36m0\u001b[0m\u001b[1;33m,\u001b[0m\u001b[0mlen\u001b[0m\u001b[1;33m(\u001b[0m\u001b[0mxrays\u001b[0m\u001b[1;33m)\u001b[0m\u001b[1;33m-\u001b[0m\u001b[1;36m1\u001b[0m\u001b[1;33m)\u001b[0m\u001b[1;33m)\u001b[0m\u001b[1;33m\u001b[0m\u001b[0m\n\u001b[0m",
        "\u001b[1;31mNameError\u001b[0m: name 'xrays' is not defined"
       ]
      }
     ],
     "prompt_number": 10
    },
    {
     "cell_type": "code",
     "collapsed": false,
     "input": [
      "def identify2(elnum=7):\n",
      "\n",
      "    #get data\n",
      "    pena = np.loadtxt(\"../data/Pena-specimen-12Feb2014.txt\")\n",
      "    norm1 = 1994.569 #livetime\n",
      "    ct1 = pena/norm1\n",
      "\n",
      "    #calibrate\n",
      "    chan = np.arange(512)\n",
      "    #calEn = chan*popt[0] + popt[1]\n",
      "    \n",
      "    fig = figure(2,(12,8),dpi=72)\n",
      "    plt.semilogy(chan[0:380],ct1[0:380],'g-')\n",
      "    #plt.xlim(0.,40.)\n",
      "    #plt.ylim(0.,ct1[0:380].max()*1.05)\n",
      "    #plt.semilogy([xrays[elnum][0],xrays[elnum][0]],[1.e-3,ct1[0:380].max()*1.05],'r-',label=elements[elnum][0])\n",
      "    #plt.semilogy([xrays[elnum][1],xrays[elnum][1]],[1.e-3,ct1[0:380].max()*1.05],'b-',label=elements[elnum][1])\n",
      "    #plt.legend(fontsize=20)\n",
      "    plt.show()\n",
      "    \n",
      "v2 = interact(identify2,elnum=(0,len(xrays)-1))"
     ],
     "language": "python",
     "metadata": {},
     "outputs": [
      {
       "ename": "NameError",
       "evalue": "name 'xrays' is not defined",
       "output_type": "pyerr",
       "traceback": [
        "\u001b[1;31m---------------------------------------------------------------------------\u001b[0m\n\u001b[1;31mNameError\u001b[0m                                 Traceback (most recent call last)",
        "\u001b[1;32m<ipython-input-11-a7e22b8cdef9>\u001b[0m in \u001b[0;36m<module>\u001b[1;34m()\u001b[0m\n\u001b[0;32m     19\u001b[0m     \u001b[0mplt\u001b[0m\u001b[1;33m.\u001b[0m\u001b[0mshow\u001b[0m\u001b[1;33m(\u001b[0m\u001b[1;33m)\u001b[0m\u001b[1;33m\u001b[0m\u001b[0m\n\u001b[0;32m     20\u001b[0m \u001b[1;33m\u001b[0m\u001b[0m\n\u001b[1;32m---> 21\u001b[1;33m \u001b[0mv2\u001b[0m \u001b[1;33m=\u001b[0m \u001b[0minteract\u001b[0m\u001b[1;33m(\u001b[0m\u001b[0midentify2\u001b[0m\u001b[1;33m,\u001b[0m\u001b[0melnum\u001b[0m\u001b[1;33m=\u001b[0m\u001b[1;33m(\u001b[0m\u001b[1;36m0\u001b[0m\u001b[1;33m,\u001b[0m\u001b[0mlen\u001b[0m\u001b[1;33m(\u001b[0m\u001b[0mxrays\u001b[0m\u001b[1;33m)\u001b[0m\u001b[1;33m-\u001b[0m\u001b[1;36m1\u001b[0m\u001b[1;33m)\u001b[0m\u001b[1;33m)\u001b[0m\u001b[1;33m\u001b[0m\u001b[0m\n\u001b[0m",
        "\u001b[1;31mNameError\u001b[0m: name 'xrays' is not defined"
       ]
      }
     ],
     "prompt_number": 11
    },
    {
     "cell_type": "code",
     "collapsed": false,
     "input": [],
     "language": "python",
     "metadata": {},
     "outputs": []
    },
    {
     "cell_type": "heading",
     "level": 2,
     "metadata": {},
     "source": [
      "Xray Properties of the Elements"
     ]
    },
    {
     "cell_type": "markdown",
     "metadata": {},
     "source": [
      "See [http://xdb.lbl.gov/Section1/](http://xdb.lbl.gov/Section1/) and [http://www.nist.gov/pml/data/index.cfm](http://www.nist.gov/pml/data/index.cfm)"
     ]
    },
    {
     "cell_type": "markdown",
     "metadata": {},
     "source": [
      "Get the data from NIST for each element?"
     ]
    },
    {
     "cell_type": "markdown",
     "metadata": {},
     "source": [
      "[http://www.med.harvard.edu/jpnm/physics/refs/xrayemis.html](http://www.med.harvard.edu/jpnm/physics/refs/xrayemis.html)"
     ]
    },
    {
     "cell_type": "markdown",
     "metadata": {},
     "source": [
      "http://www.kayelaby.npl.co.uk/atomic_and_nuclear_physics/4_2/4_2_1.html"
     ]
    },
    {
     "cell_type": "markdown",
     "metadata": {},
     "source": [
      "http://www.nist.gov/data/PDFfiles/jpcrd137.pdf"
     ]
    },
    {
     "cell_type": "markdown",
     "metadata": {},
     "source": [
      "Relative intensities of Kb/Ka as a function of atomic number: http://www.kayelaby.npl.co.uk/atomic_and_nuclear_physics/4_2/4_2_1b.html"
     ]
    },
    {
     "cell_type": "code",
     "collapsed": false,
     "input": [
      "import periodictable as pt\n",
      "\n",
      "for el in pt.elements:\n",
      "    if hasattr(el,'K_alpha'):\n",
      "        if (pt.xsf.xray_energy(el.K_alpha) < 35.):\n",
      "           print(\"%3s %3d %7.4f %7.4f\"%(el.symbol,el.number,pt.xsf.xray_energy(el.K_alpha),pt.xsf.xray_energy(el.K_beta1)))\n"
     ],
     "language": "python",
     "metadata": {},
     "outputs": [
      {
       "output_type": "stream",
       "stream": "stdout",
       "text": [
        " Ne  10  0.8486  0.8579\n",
        " Na  11  1.0410  1.0711\n",
        " Mg  12  1.2536  1.3022\n",
        " Al  13  1.4866  1.5576\n",
        " Si  14  1.7398  1.8360\n",
        "  P  15  2.0134  2.1391\n",
        "  S  16  2.3075  2.4641\n",
        " Cl  17  2.6220  2.8156\n",
        " Ar  18  2.9570  3.1905\n",
        "  K  19  3.3130  3.5897\n",
        " Ca  20  3.6906  4.0128\n",
        " Sc  21  4.0892  4.4605\n",
        " Ti  22  4.5090  4.9319\n",
        "  V  23  4.9499  5.4274\n",
        " Cr  24  5.4118  5.9471\n",
        " Mn  25  5.8953  6.4906\n",
        " Fe  26  6.3998  7.0582\n",
        " Co  27  6.9257  7.6496\n",
        " Ni  28  7.4725  8.2651\n",
        " Cu  29  8.0415  8.9056\n",
        " Zn  30  8.6316  9.5726\n",
        " Ga  31  9.2429 10.2644\n",
        " Ge  32  9.8769 10.9827\n",
        " As  33 10.5321 11.7265\n",
        " Se  34 11.2091 12.4971\n",
        " Br  35 11.9090 13.2916\n",
        " Kr  36 12.6308 14.1132\n",
        " Rb  37 13.3762 14.9631\n",
        " Sr  38 14.1438 15.8365\n",
        "  Y  39 14.9343 16.7388\n",
        " Zr  40 15.7480 17.6666\n",
        " Nb  41 16.5843 18.6246\n",
        " Mo  42 17.4454 19.6084\n",
        " Tc  43 18.3300 20.6194\n",
        " Ru  44 19.2373 21.6604\n",
        " Rh  45 20.1699 22.7244\n",
        " Pd  46 21.1253 23.8202\n",
        " Ag  47 22.1084 24.9465\n",
        " Cd  48 23.1141 26.0964\n",
        " In  49 24.1402 27.2792\n",
        " Sn  50 25.2000 28.4890\n",
        " Sb  51 26.2790 29.7324\n",
        " Te  52 27.3877 30.9960\n",
        "  I  53 28.5152 32.2960\n",
        " Xe  54 29.6755 33.6274\n",
        " Cs  55 30.8572 34.9941\n",
        " Ba  56 32.0704 36.3803\n",
        " La  57 33.3112 37.8116\n",
        " Ce  58 34.5745 39.2604\n"
       ]
      }
     ],
     "prompt_number": 11
    },
    {
     "cell_type": "code",
     "collapsed": false,
     "input": [],
     "language": "python",
     "metadata": {},
     "outputs": []
    },
    {
     "cell_type": "code",
     "collapsed": false,
     "input": [],
     "language": "python",
     "metadata": {},
     "outputs": []
    },
    {
     "cell_type": "code",
     "collapsed": false,
     "input": [],
     "language": "python",
     "metadata": {},
     "outputs": []
    },
    {
     "cell_type": "code",
     "collapsed": false,
     "input": [
      "xrays = [(2.31, 2.46), (3.31, 3.59), (3.69, 4.01), (4.09, 4.46), (4.51, 4.93), \\\n",
      "         (4.95, 5.43), (5.41, 5.43), (5.90, 6.49), (6.40, 7.06), \\\n",
      "         (6.93, 7.65), (7.48, 8.26), (8.05, 8.90), (8.64, 9.57), \\\n",
      "         (9.25, 10.26), (9.89, 10.98), (10.54, 11.73), (11.22, 12.50), \\\n",
      "         (11.92, 13.29), (12.65, 14.11), (13.39, 14.96), (14.16, 15.83), \\\n",
      "         (14.96, 16.74), (15.77, 17.67), (16.61, 18.62), (17.48, 19.61), \\\n",
      "         (18.41, 19.61), (19.28, 21.66), (20.21, 22.72), (21.18, 23.82), \\\n",
      "         (22.16, 24.94), (23.17, 26.09), (24.21, 27.27), (25.27, 28.48), \\\n",
      "         (26.36, 29.72), (27.47, 30.99), (28.61, 32.29), (29.80, 33.64), \\\n",
      "         (30.97, 34.98), (32.19, 36.38), (4.11, 4.42), (4.29, 4.62), \\\n",
      "         (4.47, 4.83), (8.40, 9.67), (9.19, 10.71), (9.71, 11.44), \\\n",
      "         (9.99, 11.82), (10.55, 12.61), (12.34, 15.23), (12.97, 16.20), \\\n",
      "         (13.61, 17.22), (14.28, 18.28), (14.62, 18.83), (11.72, 14.32)]\n",
      "\n",
      "elements = [('S K-a','S K-b'), ('K K-a','K K-b'), ('Ca K-a','Ca K-b'), ('Sc K-a','Sc K-b'), \\\n",
      "            ('Ti K-a','Ti K-b'), ('V K-a','V K-b'), ('Cr K-a','Cr K-b'), \\\n",
      "            ('Mn K-a','Mn K-b'), ('Fe K-a','Fe K-b'), ('Co K-a','Co K-b'), \\\n",
      "            ('Ni K-a','Ni K-b'), ('Cu K-a','Cu K-b'), ('Zn K-a','Zn K-b'), \\\n",
      "            ('Ga K-a','Ga K-b'), ('Ge K-a','Ge K-b'), ('As K-a','As K-b'), \\\n",
      "            ('Se K-a','Se K-b'), ('Br K-a','Br K-b'), ('Kr K-a','Kr K-b'), \\\n",
      "            ('Rb K-a','Rb K-b'), ('Sr K-a','Sr K-b'), ('Y K-a','Y K-b'), \\\n",
      "            ('Zr K-a','Zr K-b'), ('Nb K-a','Nb K-b'), ('Mo K-a','Mo K-b'), \\\n",
      "            ('Tc K-a','Tc K-b'), ('Ru K-a','Ru K-b'), ('Rh K-a','Rh K-b'), \\\n",
      "            ('Pd K-a','Pd K-b'), ('Ag K-a','Ag K-b'), ('Cd K-a','Cd K-b'), \\\n",
      "            ('In K-a','In K-b'), ('Sn K-a','Sn K-b'), ('Sb K-a','Sb K-b'), \\\n",
      "            ('Te K-a','Te K-b'), ('I K-a','I K-b'), ('Xe K-a','Xe K-b'), \\\n",
      "            ('Cs K-a','Cs K-b'), ('Ba K-a','Ba K-b'), ('Xe L-a','Xe L-b'), \\\n",
      "            ('Cs L-a','Cs L-b'), ('Ba L-a','Ba L-b'), ('W L-a','W L-b'), \\\n",
      "            ('Ir L-a','Ir L-b'), ('Au L-a','Au L-b'), ('Hg L-a','Hg L-b'), \\\n",
      "            ('Pb L-a','Pb L-b'), ('Ra L-a','Ra L-b'), ('Th L-a','Th L-b'), \\\n",
      "            ('U L-a','U L-b'), ('Pu L-a','Pu L-b'), ('Am L-a','Am L-b'), \\\n",
      "            ('Rn L-a','Rn L-b')]\n",
      "\n",
      "print len(elements)"
     ],
     "language": "python",
     "metadata": {},
     "outputs": [
      {
       "output_type": "stream",
       "stream": "stdout",
       "text": [
        "53\n"
       ]
      }
     ],
     "prompt_number": 12
    },
    {
     "cell_type": "code",
     "collapsed": false,
     "input": [
      "xraydict={'K K-a': 3.31, 'K K-b': 3.59, 'Ca K-a': 3.69, 'Ca K-b': 4.01, \\\n",
      "          'Sc K-a': 4.09, 'Sc K-b': 4.46, 'Ti K-a': 4.51, 'Ti K-b': 4.93, \\\n",
      "          'V K-a': 4.95, 'V K-b': 5.43, 'Cr K-a': 5.41, 'Cr K-b': 5.43, \\\n",
      "          'Mn K-a': 5.90, 'Mn K-b': 6.49, 'Fe K-a': 6.40, 'Fe K-b': 7.06, \\\n",
      "          'Co K-a': 6.93, 'Co K-b': 7.65, 'Ni K-a': 7.48, 'Ni K-b': 8.26, \\\n",
      "          'Cu K-a': 8.05, 'Cu K-b': 8.90, 'Zn K-a': 8.64, 'Zn K-b': 9.57, \\\n",
      "          'Ga K-a': 9.25, 'Ga K-b': 10.26, 'Ge K-a': 9.89, 'Ge K-b': 10.98, \\\n",
      "          'As K-a': 10.54, 'As K-b': 11.73, 'Se K-a': 11.22, 'Se K-b': 12.50, \\\n",
      "          'Br K-a': 11.92, 'Br K-b': 13.29, 'Kr K-a': 12.65, 'Kr K-b': 14.11, \\\n",
      "          'Rb K-a': 13.39, 'Rb K-b': 14.96, 'Sr K-a': 14.16, 'Sr K-b': 15.83, \\\n",
      "          'Y K-a': 14.96, 'Y K-b': 16.74, 'Zr K-a': 15.77, 'Zr K-b': 17.67, \\\n",
      "          'Nb K-a': 16.61, 'Nb K-b': 18.62, 'Mo K-a': 17.48, 'Mo K-b': 19.61, \\\n",
      "          'Tc K-a': 18.41, 'Tc K-b': 19.61, 'Ru K-a': 19.28, 'Ru K-b': 21.66, \\\n",
      "          'Rh K-a': 20.21, 'Rh K-b': 22.72, 'Pd K-a': 21.18, 'Pd K-b': 23.82, \\\n",
      "          'Ag K-a': 22.16, 'Ag K-b': 24.94, 'Cd K-a': 23.17, 'Cd K-b': 26.09, \\\n",
      "          'In K-a': 24.21, 'In K-b': 27.27, 'Sn K-a': 25.27, 'Sn K-b': 28.48, \\\n",
      "          'Sb K-a': 26.36, 'Sb K-b': 29.72, 'Te K-a': 27.47, 'Te K-b': 30.99, \\\n",
      "          'I K-a': 28.61, 'I K-b': 32.29, 'Xe K-a': 29.80, 'Xe K-b': 33.64, \\\n",
      "          'Cs K-a': 30.97, 'Cs K-b': 34.98, 'Ba K-a': 32.19, 'Ba K-b': 36.38, \\\n",
      "          'Xe L-a': 4.11, 'Xe L-b': 4.42, 'Cs L-a': 4.29, 'Cs L-b': 4.62, \\\n",
      "          'Ba L-a': 4.47, 'Ba L-b': 4.83, 'W L-a': 8.40, 'W L-b': 9.67, \\\n",
      "          'Ir L-a': 9.19, 'Ir L-b': 10.71, 'Au L-a': 9.71, 'Au L-b': 11.44, \\\n",
      "          'Hg L-a': 9.99, 'Hg L-b': 11.82, 'Pb L-a': 10.55, 'Pb L-b': 12.61, \\\n",
      "          'Ra L-a': 12.34, 'Ra L-b': 15.23, 'Th L-a': 12.97, 'Th L-b': 16.20, \\\n",
      "          'U L-a': 13.61, 'U L-b': 17.22, 'Pu L-a': 14.28, 'Pu L-b': 18.28, \\\n",
      "          'Am L-a': 14.62, 'Am L-b': 18.83, 'Rn L-a': 11.72, 'Rn L-b': 14.32}"
     ],
     "language": "python",
     "metadata": {},
     "outputs": [],
     "prompt_number": 13
    },
    {
     "cell_type": "code",
     "collapsed": false,
     "input": [
      "densitydict={'Am':11.87,'Sb':6.62,'As':5.53,'Ba':3.5,'Br':0.007139,'Cd':8.65,'Ca':1.55, \\\n",
      "             'Cs':1.87, 'Cr':7.14,'Co':8.71,'Cu':8.96,'Ga':5.93,'Ge':5.46,'Au':19.32,'In':4.94, \\\n",
      "             'Ir':22.42,'Fe':7.88,'Kr':0.00368,'Pb':11.34,'Mg':1.74,'Mn':7.41,'Hg':13.55,'Mo':10.22, \\\n",
      "             'Ni':8.88,'Nb':8.57,'Pd':12.16,'Pu':19.8,'K':0.86,'Ra':5.0,'Rn':4.4,'Rh':12.44, \\\n",
      "             'Rb':1.53,'Ru':12.1,'Sc':3.02,'Se':4.82,'Ag':10.49,'Sr':2.56,'Tc':11.5,'Te':6.25, \\\n",
      "             'Th':11.3,'Sn':7.3,'Ti':4.5,'W':19.3,'U':18.7,'V':5.98,'Xe':0.00585,'Y':3.8,'Zn':7.1, \\\n",
      "             'Zr':6.4}"
     ],
     "language": "python",
     "metadata": {},
     "outputs": [],
     "prompt_number": 14
    },
    {
     "cell_type": "code",
     "collapsed": false,
     "input": [],
     "language": "python",
     "metadata": {},
     "outputs": []
    }
   ],
   "metadata": {}
  }
 ]
}