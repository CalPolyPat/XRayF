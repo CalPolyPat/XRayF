{
 "metadata": {
  "name": "",
  "signature": "sha256:d14629b1987a1281d84c92c60e59f745315974b72ebad607a234d2f76515233c"
 },
 "nbformat": 3,
 "nbformat_minor": 0,
 "worksheets": [
  {
   "cells": [
    {
     "cell_type": "heading",
     "level": 1,
     "metadata": {},
     "source": [
      "Xray transition data"
     ]
    },
    {
     "cell_type": "markdown",
     "metadata": {},
     "source": [
      "[NIST Xray database](http://physics.nist.gov/PhysRefData/XrayTrans/Html/search.html)"
     ]
    },
    {
     "cell_type": "markdown",
     "metadata": {},
     "source": [
      "All elements with transitions between 1 and 30 keV:"
     ]
    },
    {
     "cell_type": "markdown",
     "metadata": {},
     "source": [
      "KL3 = K-alpha1  \n",
      "KL2 = K-alpha2  \n",
      "KM3 = K-beta1  \n",
      "\n",
      "L3M5 = L-alpha1  \n",
      "L3M4 = L-alpha2  \n",
      "L2M4 = L-beta1  \n",
      "\n",
      "http://physics.nist.gov/cgi-bin/XrayTrans/search.pl?download=column&sorttype=transition&element=All&trans=All&lower=1000&upper=30000&units=eV'\n",
      "\n"
     ]
    },
    {
     "cell_type": "code",
     "collapsed": false,
     "input": [
      "%pylab inline\n",
      "import numpy as np\n",
      "import matplotlib.pyplot as plt\n",
      "import requests\n",
      "from StringIO import StringIO"
     ],
     "language": "python",
     "metadata": {},
     "outputs": [
      {
       "output_type": "stream",
       "stream": "stdout",
       "text": [
        "Populating the interactive namespace from numpy and matplotlib\n"
       ]
      }
     ],
     "prompt_number": 1
    },
    {
     "cell_type": "code",
     "collapsed": false,
     "input": [
      "onestopshop = 'http://physics.nist.gov/cgi-bin/XrayTrans/search.pl?download=column&sorttype=transition&element=All&trans=All&lower=1000&upper=30000&units=eV'\n",
      "response = requests.get(onestopshop)"
     ],
     "language": "python",
     "metadata": {},
     "outputs": [],
     "prompt_number": 2
    },
    {
     "cell_type": "code",
     "collapsed": false,
     "input": [
      "Ka1 = {}\n",
      "Ka2 = {}\n",
      "Ka = {}\n",
      "Kb1 = {}\n",
      "La1 = {}\n",
      "La2 = {}\n",
      "La = {}\n",
      "Lb1 = {}\n",
      "#Extract experimental data for line\n",
      "content = StringIO(response.content).read()\n",
      "linecount = 0\n",
      "for line in content.splitlines():\n",
      "    if linecount < 23:\n",
      "        if \"Direct (eV)       =\" in line: #Why is this section here?\n",
      "            startXray = int(line[22:24])-1\n",
      "            endXray = int(line[27:29])-1\n",
      "        if \"Trans.              =\" in line:\n",
      "            startTrans = int(line[22:24])-1\n",
      "            endTrans = int(line[27:29])-1\n",
      "    else:\n",
      "        if \"KL2\" in line[startTrans:endTrans]:\n",
      "            #print line[0:4],line[startTrans:endTrans],line[startXray:endXray]\n",
      "            #Not all elements have a given xray line\n",
      "            if line[startXray:endXray] != (endXray-startXray)*' ':\n",
      "                Ka2[\"'\" + line[0:2] + \"'\"]=float(line[startXray:endXray])*1.e-3\n",
      "        if \"KL3\" in line[startTrans:endTrans]:\n",
      "            #print line[0:4],line[startTrans:endTrans],line[startXray:endXray]\n",
      "            #Not all elements have a given xray line\n",
      "            if line[startXray:endXray] != (endXray-startXray)*' ':\n",
      "                Ka1[\"'\" + line[0:2] + \"'\"]=float(line[startXray:endXray])*1.e-3\n",
      "        if \"KM3\" in line[startTrans:endTrans]:\n",
      "            #print line[0:4],line[startTrans:endTrans],line[startXray:endXray]\n",
      "            #Not all elements have a given xray line\n",
      "            if line[startXray:endXray] != (endXray-startXray)*' ':\n",
      "                Kb1[\"'\" + line[0:2] + \"'\"]=float(line[startXray:endXray])*1.e-3\n",
      "        if \"L3M5\" in line[startTrans:endTrans]:\n",
      "            #print line[0:4],line[startTrans:endTrans]\n",
      "            #Not all elements have a given xray line\n",
      "            if line[startXray:endXray] != (endXray-startXray)*' ':\n",
      "                La1[\"'\" + line[0:2] + \"'\"]=float(line[startXray:endXray])*1.e-3\n",
      "        if \"L3M4\" in line[startTrans:endTrans]:\n",
      "            #print line[0:4],line[startTrans:endTrans]\n",
      "            #Not all elements have a given xray line\n",
      "            if line[startXray:endXray] != (endXray-startXray)*' ':\n",
      "                La2[\"'\" + line[0:2] + \"'\"]=float(line[startXray:endXray])*1.e-3\n",
      "        if \"L2M4\" in line[startTrans:endTrans]:\n",
      "            #print line[0:4],line[startTrans:endTrans]\n",
      "            #Not all elements have a given xray line\n",
      "            if line[startXray:endXray] != (endXray-startXray)*' ':\n",
      "               Lb1[\"'\" + line[0:2] + \"'\"]=float(line[startXray:endXray])*1.e-3\n",
      "    linecount += 1\n",
      "    \n",
      "for key in Ka1.keys():\n",
      "    Ka[key] = (Ka1[key]+Ka2[key])/2.\n",
      "\n",
      "\n",
      "print Ka1\n",
      "print Ka2\n",
      "print Ka\n",
      "'''\n",
      "#Write file\n",
      "out = open('Kseries.dat', 'w')\n",
      "#header = \"#K-series lines from NIST in keV\\n\"\n",
      "#out.writelines(header)\n",
      "for i in range(len(Ka2[0])):\n",
      "    lines = \"%s   %7.4f  %7.4f\\n\"%(Ka1[0][i],(Ka1[1][i]+Ka2[1][i])/2.,Kb1[1][i])\n",
      "    out.writelines(lines)\n",
      "out.close()\n",
      "\n",
      "#L-lines\n",
      "\n",
      "print \"##################\"\n",
      "#Get rid of Tc, because it doesn't have a partner or add Tc to La2?\n",
      "del La1[0][13]\n",
      "del La1[1][13]\n",
      "del Lb1[0][13]\n",
      "del Lb1[1][13]\n",
      "\n",
      "#Write file\n",
      "out = open('Lseries.dat', 'w')\n",
      "#header = \"#L-series lines from NIST in keV\\n\"\n",
      "#out.writelines(header)\n",
      "for i in range(len(La1[0])):\n",
      "    lines = \"%s   %7.4f  %7.4f\\n\"%(La1[0][i],(La1[1][i]+La2[1][i])/2.,Lb1[1][i])\n",
      "    out.writelines(lines)\n",
      "out.close()\n",
      "\n",
      "print len(Lb1[0])\n",
      "print len(La2[0])\n",
      "print len(La1[0])\n",
      "'''"
     ],
     "language": "python",
     "metadata": {},
     "outputs": [
      {
       "output_type": "stream",
       "stream": "stdout",
       "text": [
        "{\"'Rb'\": 13.39549, \"'Xe'\": 29.77878, \"'Cl'\": 2.62244, \"'P '\": 2.01368, \"'Y '\": 14.958540000000001, \"'Sc'\": 4.0907350000000005, \"'Cr'\": 5.414804500000001, \"'S '\": 2.307885, \"'Nb'\": 16.61516, \"'Zr'\": 15.774914, \"'Tc'\": 18.3672, \"'Cu'\": 8.0478227, \"'Cd'\": 23.17398, \"'Ar'\": 2.9576819999999997, \"'Ni'\": 7.4782521, \"'K '\": 3.3139476, \"'Mn'\": 5.898801000000001, \"'Al'\": 1.4867080000000001, \"'Rh'\": 20.21612, \"'Sn'\": 25.27136, \"'V '\": 4.952216000000001, \"'Kr'\": 12.648002, \"'Ti'\": 4.5108991, \"'Pd'\": 21.177080000000004, \"'Co'\": 6.930378, \"'Ga'\": 9.251674000000001, \"'Zn'\": 8.638906, \"'Mg'\": 1.2536880000000001, \"'Ag'\": 22.162917, \"'Na'\": 1.04098, \"'Te'\": 27.47257, \"'Ru'\": 19.27916, \"'Fe'\": 6.4040061999999995, \"'I '\": 28.61232, \"'Sr'\": 14.1652, \"'Br'\": 11.92436, \"'Se'\": 11.222520000000001, \"'Ca'\": 3.691719, \"'In'\": 24.20975, \"'As'\": 10.543267400000001, \"'Si'\": 1.739985, \"'Sb'\": 26.35886, \"'Mo'\": 17.479372, \"'Ge'\": 9.88652}\n",
        "{\"'Rb'\": 13.33588, \"'Xe'\": 29.45825, \"'Cl'\": 2.6208460000000002, \"'P '\": 2.0127, \"'Y '\": 14.882940000000001, \"'Sc'\": 4.085952600000001, \"'Cr'\": 5.4055384, \"'S '\": 2.3066999999999998, \"'Nb'\": 16.52128, \"'Zr'\": 15.690645, \"'Tc'\": 18.2509, \"'Cu'\": 8.0278416, \"'Cd'\": 22.98405, \"'Ar'\": 2.9555659999999997, \"'Ni'\": 7.461034300000001, \"'K '\": 3.3111956, \"'Mn'\": 5.8876859, \"'Al'\": 1.4862950000000001, \"'Rh'\": 20.07367, \"'Sn'\": 25.044040000000003, \"'V '\": 4.9446710000000005, \"'Kr'\": 12.595424000000001, \"'Ti'\": 4.5049201000000005, \"'Pd'\": 21.02015, \"'Co'\": 6.915538, \"'Ga'\": 9.224834999999999, \"'Zn'\": 8.615823, \"'Mg'\": 1.253437, \"'Ag'\": 21.9903, \"'Na'\": 1.04098, \"'Te'\": 27.201990000000002, \"'Ru'\": 19.15049, \"'Fe'\": 6.391026399999999, \"'I '\": 28.317520000000002, \"'Sr'\": 14.098030000000001, \"'Br'\": 11.87775, \"'Se'\": 11.18153, \"'Ca'\": 3.6881280000000003, \"'In'\": 24.002029999999998, \"'As'\": 10.5075, \"'Si'\": 1.739394, \"'Sb'\": 26.11078, \"'Mo'\": 17.374290000000002, \"'Ge'\": 9.85542}\n",
        "{\"'Xe'\": 29.618515000000002, \"'Cl'\": 2.621643, \"'P '\": 2.01319, \"'Y '\": 14.920740000000002, \"'Sc'\": 4.0883438000000005, \"'Cr'\": 5.41017145, \"'S '\": 2.3072925, \"'Nb'\": 16.56822, \"'Zr'\": 15.7327795, \"'Tc'\": 18.30905, \"'Rb'\": 13.365685, \"'Cd'\": 23.079015, \"'Ar'\": 2.9566239999999997, \"'Ni'\": 7.4696432, \"'K '\": 3.3125716, \"'Mn'\": 5.89324345, \"'Al'\": 1.4865015000000001, \"'Rh'\": 20.144894999999998, \"'Sn'\": 25.157700000000002, \"'V '\": 4.948443500000001, \"'Kr'\": 12.621713, \"'Ti'\": 4.5079096, \"'Pd'\": 21.098615000000002, \"'Co'\": 6.9229579999999995, \"'Ga'\": 9.2382545, \"'Ru'\": 19.214825, \"'Zn'\": 8.6273645, \"'Mg'\": 1.2535625000000001, \"'Ag'\": 22.0766085, \"'Na'\": 1.04098, \"'Te'\": 27.33728, \"'Fe'\": 6.3975162999999995, \"'Se'\": 11.202025, \"'I '\": 28.46492, \"'Sr'\": 14.131615, \"'Cu'\": 8.03783215, \"'Br'\": 11.901055, \"'Ca'\": 3.6899235, \"'In'\": 24.10589, \"'As'\": 10.5253837, \"'Si'\": 1.7396894999999999, \"'Sb'\": 26.23482, \"'Mo'\": 17.426831, \"'Ge'\": 9.87097}\n"
       ]
      },
      {
       "metadata": {},
       "output_type": "pyout",
       "prompt_number": 4,
       "text": [
        "'\\n#Write file\\nout = open(\\'Kseries.dat\\', \\'w\\')\\n#header = \"#K-series lines from NIST in keV\\n\"\\n#out.writelines(header)\\nfor i in range(len(Ka2[0])):\\n    lines = \"%s   %7.4f  %7.4f\\n\"%(Ka1[0][i],(Ka1[1][i]+Ka2[1][i])/2.,Kb1[1][i])\\n    out.writelines(lines)\\nout.close()\\n\\n#L-lines\\n\\nprint \"##################\"\\n#Get rid of Tc, because it doesn\\'t have a partner or add Tc to La2?\\ndel La1[0][13]\\ndel La1[1][13]\\ndel Lb1[0][13]\\ndel Lb1[1][13]\\n\\n#Write file\\nout = open(\\'Lseries.dat\\', \\'w\\')\\n#header = \"#L-series lines from NIST in keV\\n\"\\n#out.writelines(header)\\nfor i in range(len(La1[0])):\\n    lines = \"%s   %7.4f  %7.4f\\n\"%(La1[0][i],(La1[1][i]+La2[1][i])/2.,Lb1[1][i])\\n    out.writelines(lines)\\nout.close()\\n\\nprint len(Lb1[0])\\nprint len(La2[0])\\nprint len(La1[0])\\n'"
       ]
      }
     ],
     "prompt_number": 4
    },
    {
     "cell_type": "code",
     "collapsed": false,
     "input": [
      "!cat Lseries.dat"
     ],
     "language": "python",
     "metadata": {},
     "outputs": [
      {
       "output_type": "stream",
       "stream": "stdout",
       "text": [
        "#L-series lines from NIST in keV\r\n",
        "Zn    1.0118   1.0347\r\n",
        "Ga    1.0980   1.1248\r\n",
        "Ge    1.1880   1.2185\r\n",
        "As    1.2820   1.3170\r\n",
        "Se    1.3791   1.4192\r\n",
        "Br    1.4805   1.5259\r\n",
        "Kr    1.5854   1.6369\r\n",
        "Rb    1.6934   1.7522\r\n",
        "Sr    1.8057   1.8717\r\n",
        "Y     1.9215   1.9958\r\n",
        "Zr    2.0413   2.1244\r\n",
        "Nb    2.1645   2.2574\r\n",
        "Mo    2.2915   2.3948\r\n",
        "Ru    2.5565   2.6833\r\n",
        "Rh    2.6944   2.8344\r\n",
        "Pd    2.8360   2.9903\r\n",
        "Ag    2.9813   3.1510\r\n",
        "Cd    3.1304   3.3166\r\n",
        "In    3.2832   3.4872\r\n",
        "Sn    3.4407   3.6628\r\n",
        "Sb    3.6001   3.8436\r\n",
        "Te    3.7641   4.0296\r\n",
        "I     3.9319   4.2208\r\n",
        "Xe    4.1037   4.4177\r\n",
        "Cs    4.2794   4.6198\r\n",
        "Ba    4.4586   4.8276\r\n",
        "La    4.6426   5.0422\r\n",
        "Ce    4.8316   5.2629\r\n",
        "Pr    5.0237   5.4889\r\n",
        "Nd    5.2190   5.7214\r\n",
        "Pm    5.4203   5.9615\r\n",
        "Sm    5.6225   6.2041\r\n",
        "Eu    5.8315   6.4557\r\n",
        "Gd    6.0412   6.7134\r\n",
        "Tb    6.2555   6.9778\r\n",
        "Dy    6.4765   7.2478\r\n",
        "Ho    6.6991   7.5257\r\n",
        "Er    6.9262   7.8102\r\n",
        "Tm    7.1569   8.1023\r\n",
        "Yb    7.3916   8.4019\r\n",
        "Lu    7.6302   8.7091\r\n",
        "Hf    7.8719   9.0228\r\n",
        "Ta    8.1170   9.3432\r\n",
        "W     8.3668   9.6726\r\n",
        "Re    8.6194  10.0100\r\n",
        "Os    8.8765  10.3554\r\n",
        "Ir    9.1374  10.7084\r\n",
        "Pt    9.4022  11.0708\r\n",
        "Au    9.6707  11.4425\r\n",
        "Hg    9.9433  11.8227\r\n",
        "Tl   10.2208  12.2134\r\n",
        "Pb   10.5006  12.6138\r\n",
        "Bi   10.7850  13.0236\r\n",
        "Po   11.0734  13.4471\r\n",
        "At   11.3659  13.8762\r\n",
        "Rn   11.6626  14.3158\r\n",
        "Fr   11.9632  14.7704\r\n",
        "Ra   12.2681  15.2359\r\n",
        "Ac   12.5766  15.7133\r\n",
        "Th   12.8887  16.2016\r\n",
        "Pa   13.2066  16.7020\r\n",
        "U    13.5269  17.2202\r\n",
        "Np   13.8521  17.7504\r\n",
        "Pu   14.1816  18.2940\r\n",
        "Am   14.5147  18.8522\r\n",
        "Cf   15.5440  20.6560\r\n",
        "Fm   16.2530  21.8980\r\n"
       ]
      }
     ],
     "prompt_number": 58
    },
    {
     "cell_type": "code",
     "collapsed": false,
     "input": [
      "!cat Kseries.dat"
     ],
     "language": "python",
     "metadata": {},
     "outputs": [
      {
       "output_type": "stream",
       "stream": "stdout",
       "text": [
        "#K-series lines from NIST in keV\r\n",
        "Na    1.0410   1.0711\r\n",
        "Mg    1.2536   1.3022\r\n",
        "Al    1.4865   1.5576\r\n",
        "Si    1.7397   1.8360\r\n",
        "P     2.0132   2.1391\r\n",
        "S     2.3073   2.4641\r\n",
        "Cl    2.6216   2.8156\r\n",
        "Ar    2.9566   3.1905\r\n",
        "K     3.3126   3.5896\r\n",
        "Ca    3.6899   4.0128\r\n",
        "Sc    4.0883   4.4604\r\n",
        "Ti    4.5079   4.9318\r\n",
        "V     4.9484   5.4273\r\n",
        "Cr    5.6512   5.9468\r\n",
        "Mn    6.1449   6.4906\r\n",
        "Fe    6.6598   7.0582\r\n",
        "Co    7.1957   7.6494\r\n",
        "Ni    7.7530   8.2648\r\n",
        "Cu    8.3318   8.9054\r\n",
        "Zn    8.9319   9.5720\r\n",
        "Ga    9.5535  10.2642\r\n",
        "Ge   10.1970  10.9822\r\n",
        "As   10.8624  11.7257\r\n",
        "Se   11.5501  12.4960\r\n",
        "Br   12.2599  13.2916\r\n",
        "Kr   12.9919  14.1128\r\n",
        "Rb   13.7468  14.9614\r\n",
        "Sr   14.5241  15.8359\r\n",
        "Y    15.3246  16.7381\r\n",
        "Zr   16.1481  17.6666\r\n",
        "Nb   16.9947  18.6227\r\n",
        "Mo   17.8651  19.6083\r\n",
        "Tc   18.7588  20.6190\r\n",
        "Ru   19.6764  21.6567\r\n",
        "Rh   20.6181  22.7236\r\n",
        "Pd   21.5837  23.8187\r\n",
        "Ag   22.5735  24.9424\r\n",
        "Cd   23.5880  26.0954\r\n",
        "In   24.6269  27.2755\r\n",
        "Sn   25.6911  28.4863\r\n",
        "Sb   26.7804  29.7255\r\n"
       ]
      }
     ],
     "prompt_number": 59
    },
    {
     "cell_type": "code",
     "collapsed": false,
     "input": [],
     "language": "python",
     "metadata": {},
     "outputs": []
    }
   ],
   "metadata": {}
  }
 ]
}